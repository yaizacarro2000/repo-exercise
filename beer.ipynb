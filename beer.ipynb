{
 "cells": [
  {
   "cell_type": "markdown",
   "id": "dabac1e5",
   "metadata": {},
   "source": [
    "### libraries"
   ]
  },
  {
   "cell_type": "code",
   "execution_count": null,
   "id": "3fdaf027",
   "metadata": {},
   "outputs": [],
   "source": [
    "import pandas as pd\n",
    "import numpy as np\n",
    "import statsmodels.formula.api as sm\n",
    "import matplotlib.pyplot as plt"
   ]
  },
  {
   "cell_type": "markdown",
   "id": "487b4721",
   "metadata": {},
   "source": [
    "### data"
   ]
  },
  {
   "cell_type": "code",
   "execution_count": null,
   "id": "e5748395",
   "metadata": {
    "scrolled": true
   },
   "outputs": [],
   "source": [
    "data = pd.read_excel('beer.xlsx')\n",
    "data"
   ]
  },
  {
   "cell_type": "markdown",
   "id": "3bbd18aa",
   "metadata": {},
   "source": [
    "### description "
   ]
  },
  {
   "cell_type": "code",
   "execution_count": null,
   "id": "d2cbb886",
   "metadata": {
    "scrolled": true
   },
   "outputs": [],
   "source": [
    "data.describe()"
   ]
  },
  {
   "cell_type": "markdown",
   "id": "2ab00e11",
   "metadata": {},
   "source": [
    "### correlation"
   ]
  },
  {
   "cell_type": "code",
   "execution_count": null,
   "id": "c233deca",
   "metadata": {},
   "outputs": [],
   "source": [
    "np.corrcoef(data.price, data.sales)"
   ]
  },
  {
   "cell_type": "markdown",
   "id": "2b21c238",
   "metadata": {},
   "source": [
    "### regression "
   ]
  },
  {
   "cell_type": "code",
   "execution_count": null,
   "id": "85e388d1",
   "metadata": {},
   "outputs": [],
   "source": [
    "mod1 = sm.ols(formula = \"sales ~ price\", data = data).fit()\n",
    "print(mod1.summary(slim = True))"
   ]
  },
  {
   "cell_type": "markdown",
   "id": "af8d4aa8",
   "metadata": {},
   "source": [
    "### prediction"
   ]
  },
  {
   "cell_type": "code",
   "execution_count": null,
   "id": "f18bde05",
   "metadata": {
    "scrolled": true
   },
   "outputs": [],
   "source": [
    "pred = mod1.predict(data)\n",
    "pred"
   ]
  },
  {
   "cell_type": "markdown",
   "id": "4487bcbe",
   "metadata": {},
   "source": [
    "### plot"
   ]
  },
  {
   "cell_type": "code",
   "execution_count": null,
   "id": "c9844e36",
   "metadata": {
    "scrolled": true
   },
   "outputs": [],
   "source": [
    "plt.plot(data.price, data.sales, 'o', ms = 4, c = 'black')\n",
    "plt.plot(data.price, pred, c = 'blue')"
   ]
  }
 ],
 "metadata": {
  "kernelspec": {
   "display_name": "Python 3 (ipykernel)",
   "language": "python",
   "name": "python3"
  },
  "language_info": {
   "codemirror_mode": {
    "name": "ipython",
    "version": 3
   },
   "file_extension": ".py",
   "mimetype": "text/x-python",
   "name": "python",
   "nbconvert_exporter": "python",
   "pygments_lexer": "ipython3",
   "version": "3.10.9"
  }
 },
 "nbformat": 4,
 "nbformat_minor": 5
}
